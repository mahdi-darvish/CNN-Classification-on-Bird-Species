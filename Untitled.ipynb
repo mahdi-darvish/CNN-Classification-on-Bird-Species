{
 "cells": [
  {
   "cell_type": "code",
   "execution_count": 12,
   "id": "entertaining-soccer",
   "metadata": {},
   "outputs": [],
   "source": [
    "#Import packages used here:\n",
    "# for initial data exploration:\n",
    "import numpy as np\n",
    "import pandas as pd\n",
    "import os\n",
    "import matplotlib.pyplot as plt\n",
    "from IPython.display import Image, display\n",
    "import random\n",
    "import math\n",
    "\n",
    "#For modeling and model viewing. \n",
    "import tensorflow as tf\n",
    "from keras.preprocessing.image import load_img,img_to_array,ImageDataGenerator\n",
    "from tensorflow.keras.models import Model, Sequential\n",
    "from tensorflow.keras.utils import plot_model \n",
    "from tensorflow.keras.layers import Input, Dense, Dropout, Flatten, Activation,Concatenate\n",
    "from tensorflow.keras.layers import Conv2D, MaxPooling2D, AveragePooling2D\n",
    "from tensorflow.keras.layers import BatchNormalization\n",
    "from tensorflow.keras.utils import to_categorical #Image generator used for transformation to categorical\n",
    "from tensorflow.keras.optimizers import Adam, SGD\n",
    "from tensorflow.keras.callbacks import EarlyStopping, LearningRateScheduler, ReduceLROnPlateau\n",
    "from tensorflow.keras import backend, models\n",
    "#from sklearn.model_selection import train_test_split  #could have used on the consolidated file.\n",
    "from sklearn.metrics import confusion_matrix\n",
    "\n",
    "from tensorflow.keras.applications import VGG16, MobileNet\n",
    "#from keras.applications.vgg16 import decode_predictions\n",
    "from keras.applications.vgg16 import preprocess_input"
   ]
  },
  {
   "cell_type": "code",
   "execution_count": 27,
   "id": "stuffed-aaron",
   "metadata": {},
   "outputs": [
    {
     "name": "stdout",
     "output_type": "stream",
     "text": [
      "BASE_DIR contains  ['consolidated', 'test', 'train', 'valid']\n"
     ]
    }
   ],
   "source": [
    "DIR = r'C:\\\\Users\\\\LENOVO\\\\Documents\\\\GitHub\\\\CNN-Classification-on-Bird-Species\\\\input'\n",
    "print('BASE_DIR contains ', os.listdir(DIR))\n",
    "train_DIR = os.path.join(DIR, 'train')\n",
    "validation_DIR = os.path.join(DIR, 'valid')\n",
    "test_DIR = os.path.join(DIR, 'test')"
   ]
  },
  {
   "cell_type": "code",
   "execution_count": null,
   "id": "hazardous-crisis",
   "metadata": {},
   "outputs": [],
   "source": []
  },
  {
   "cell_type": "code",
   "execution_count": null,
   "id": "protective-organic",
   "metadata": {},
   "outputs": [],
   "source": []
  },
  {
   "cell_type": "code",
   "execution_count": null,
   "id": "becoming-budget",
   "metadata": {},
   "outputs": [],
   "source": []
  }
 ],
 "metadata": {
  "kernelspec": {
   "display_name": "Python 3",
   "language": "python",
   "name": "python3"
  },
  "language_info": {
   "codemirror_mode": {
    "name": "ipython",
    "version": 3
   },
   "file_extension": ".py",
   "mimetype": "text/x-python",
   "name": "python",
   "nbconvert_exporter": "python",
   "pygments_lexer": "ipython3",
   "version": "3.8.6"
  }
 },
 "nbformat": 4,
 "nbformat_minor": 5
}
